{
  "nbformat": 4,
  "nbformat_minor": 0,
  "metadata": {
    "colab": {
      "name": "predictEthereumPrices.ipynb",
      "provenance": [],
      "authorship_tag": "ABX9TyNMwTpj0nn6bW073GzW5kui",
      "include_colab_link": true
    },
    "kernelspec": {
      "name": "python3",
      "display_name": "Python 3"
    }
  },
  "cells": [
    {
      "cell_type": "markdown",
      "metadata": {
        "id": "view-in-github",
        "colab_type": "text"
      },
      "source": [
        "<a href=\"https://colab.research.google.com/github/chiuannica/MudkipInfographics/blob/master/predictEthereumPrices.ipynb\" target=\"_parent\"><img src=\"https://colab.research.google.com/assets/colab-badge.svg\" alt=\"Open In Colab\"/></a>"
      ]
    },
    {
      "cell_type": "code",
      "metadata": {
        "id": "k81RHdrqjamn"
      },
      "source": [
        "import pandas as pd\r\n",
        "import datetime\r\n",
        "import numpy as np\r\n",
        "import matplotlib.pyplot as plt\r\n",
        "import math\r\n",
        "from sklearn.preprocessing import MinMaxScaler\r\n",
        "\r\n",
        "from keras.models import Sequential\r\n",
        "from keras.layers import Dense, LSTM"
      ],
      "execution_count": 201,
      "outputs": []
    },
    {
      "cell_type": "code",
      "metadata": {
        "id": "av-klBEtNQRN"
      },
      "source": [
        "plt.style.use(\"fivethirtyeight\")\r\n",
        "#ETH for all of history\r\n",
        "#path = \"/ETH_USD_2015-08-09_2021-02-05-CoinDesk.csv\"\r\n",
        "#ETH past 3 months\r\n",
        "path = \"/ETH_USD_2020-11-06_2021-02-05-CoinDesk.csv\"\r\n",
        "#Doge past 3 months\r\n",
        "#path = \"/DOGE_USD_2020-11-06_2021-02-05-CoinDesk.csv\"\r\n",
        "eth_data = pd.read_csv(path)\r\n",
        "\r\n",
        "eth_data.shape\r\n",
        "eth_data.rename(columns={\"Date\": 'date', \"Closing Price (USD)\": 'close', \"24h Open (USD)\": 'open', '24h High (USD)': 'high', '24h Low (USD)': 'low'}, inplace=True)"
      ],
      "execution_count": 202,
      "outputs": []
    },
    {
      "cell_type": "code",
      "metadata": {
        "colab": {
          "base_uri": "https://localhost:8080/",
          "height": 233
        },
        "id": "rfRWUVZFlGBf",
        "outputId": "df7fb1c3-a066-4f4e-94a0-9b3bd26257c1"
      },
      "source": [
        "eth_data['date'] = pd.to_datetime(eth_data['date'])\r\n",
        "eth_data.index = eth_data['date']\r\n",
        "eth_data.tail()"
      ],
      "execution_count": 203,
      "outputs": [
        {
          "output_type": "execute_result",
          "data": {
            "text/html": [
              "<div>\n",
              "<style scoped>\n",
              "    .dataframe tbody tr th:only-of-type {\n",
              "        vertical-align: middle;\n",
              "    }\n",
              "\n",
              "    .dataframe tbody tr th {\n",
              "        vertical-align: top;\n",
              "    }\n",
              "\n",
              "    .dataframe thead th {\n",
              "        text-align: right;\n",
              "    }\n",
              "</style>\n",
              "<table border=\"1\" class=\"dataframe\">\n",
              "  <thead>\n",
              "    <tr style=\"text-align: right;\">\n",
              "      <th></th>\n",
              "      <th>Currency</th>\n",
              "      <th>date</th>\n",
              "      <th>close</th>\n",
              "      <th>open</th>\n",
              "      <th>high</th>\n",
              "      <th>low</th>\n",
              "    </tr>\n",
              "    <tr>\n",
              "      <th>date</th>\n",
              "      <th></th>\n",
              "      <th></th>\n",
              "      <th></th>\n",
              "      <th></th>\n",
              "      <th></th>\n",
              "      <th></th>\n",
              "    </tr>\n",
              "  </thead>\n",
              "  <tbody>\n",
              "    <tr>\n",
              "      <th>2021-02-01</th>\n",
              "      <td>ETH</td>\n",
              "      <td>2021-02-01</td>\n",
              "      <td>1357.047990</td>\n",
              "      <td>1314.419019</td>\n",
              "      <td>1364.277491</td>\n",
              "      <td>1271.988289</td>\n",
              "    </tr>\n",
              "    <tr>\n",
              "      <th>2021-02-02</th>\n",
              "      <td>ETH</td>\n",
              "      <td>2021-02-02</td>\n",
              "      <td>1540.651288</td>\n",
              "      <td>1374.482798</td>\n",
              "      <td>1549.033703</td>\n",
              "      <td>1361.935211</td>\n",
              "    </tr>\n",
              "    <tr>\n",
              "      <th>2021-02-03</th>\n",
              "      <td>ETH</td>\n",
              "      <td>2021-02-03</td>\n",
              "      <td>1644.685967</td>\n",
              "      <td>1513.809609</td>\n",
              "      <td>1650.388472</td>\n",
              "      <td>1510.619675</td>\n",
              "    </tr>\n",
              "    <tr>\n",
              "      <th>2021-02-04</th>\n",
              "      <td>ETH</td>\n",
              "      <td>2021-02-04</td>\n",
              "      <td>1628.468008</td>\n",
              "      <td>1665.892805</td>\n",
              "      <td>1697.107183</td>\n",
              "      <td>1558.583689</td>\n",
              "    </tr>\n",
              "    <tr>\n",
              "      <th>2021-02-05</th>\n",
              "      <td>ETH</td>\n",
              "      <td>2021-02-05</td>\n",
              "      <td>1704.832300</td>\n",
              "      <td>1596.991934</td>\n",
              "      <td>1761.354780</td>\n",
              "      <td>1592.854835</td>\n",
              "    </tr>\n",
              "  </tbody>\n",
              "</table>\n",
              "</div>"
            ],
            "text/plain": [
              "           Currency       date  ...         high          low\n",
              "date                            ...                          \n",
              "2021-02-01      ETH 2021-02-01  ...  1364.277491  1271.988289\n",
              "2021-02-02      ETH 2021-02-02  ...  1549.033703  1361.935211\n",
              "2021-02-03      ETH 2021-02-03  ...  1650.388472  1510.619675\n",
              "2021-02-04      ETH 2021-02-04  ...  1697.107183  1558.583689\n",
              "2021-02-05      ETH 2021-02-05  ...  1761.354780  1592.854835\n",
              "\n",
              "[5 rows x 6 columns]"
            ]
          },
          "metadata": {
            "tags": []
          },
          "execution_count": 203
        }
      ]
    },
    {
      "cell_type": "code",
      "metadata": {
        "colab": {
          "base_uri": "https://localhost:8080/",
          "height": 571
        },
        "id": "mXypMwWQmDSP",
        "outputId": "6eaf6a76-7dcc-4a97-d1d1-86ee2aed061d"
      },
      "source": [
        "plt.figure(figsize=(16,8))\r\n",
        "plt.title(\"Close Price History\")\r\n",
        "plt.plot(eth_data[\"close\"])\r\n",
        "plt.xlabel(\"date\", fontsize=\"14\")\r\n",
        "plt.ylabel(\"close\", fontsize=\"14\")"
      ],
      "execution_count": 204,
      "outputs": [
        {
          "output_type": "execute_result",
          "data": {
            "text/plain": [
              "Text(0, 0.5, 'close')"
            ]
          },
          "metadata": {
            "tags": []
          },
          "execution_count": 204
        },
        {
          "output_type": "display_data",
          "data": {
            "image/png": "[encoded data removed]",
            "text/plain": [
              "<Figure size 1152x576 with 1 Axes>"
            ]
          },
          "metadata": {
            "tags": []
          }
        }
      ]
    },
    {
      "cell_type": "code",
      "metadata": {
        "id": "wSxXnoOTr0mp"
      },
      "source": [
        "# get number of rows to train the model\r\n",
        "data = eth_data.filter(['close'])\r\n",
        "close_data = data.values\r\n",
        "\r\n",
        "training_data_len = math.ceil(len(close_data) * 0.8)"
      ],
      "execution_count": 205,
      "outputs": []
    },
    {
      "cell_type": "code",
      "metadata": {
        "id": "fZCPEWmFHpGE"
      },
      "source": [
        "# Scale data\r\n",
        "scaler = MinMaxScaler(feature_range=(0,1))\r\n",
        "# calculates the min and max and scales it between 0 and 1\r\n",
        "scaled_data = scaler.fit_transform(close_data)"
      ],
      "execution_count": 206,
      "outputs": []
    },
    {
      "cell_type": "code",
      "metadata": {
        "colab": {
          "base_uri": "https://localhost:8080/"
        },
        "id": "UfOnTTDgJNKV",
        "outputId": "d0cc16f1-e0fc-498c-c925-d60e928642eb"
      },
      "source": [
        "# create training data set\r\n",
        "# trained data set\r\n",
        "train_data = scaled_data[0:training_data_len, : ]\r\n",
        "\r\n",
        "# split data into x_train and y_train\r\n",
        "x_train = []\r\n",
        "y_train = []\r\n",
        "\r\n",
        "for i in range(60, len(train_data)):\r\n",
        "  x_train.append(train_data[i-60:i, 0])\r\n",
        "  y_train.append(train_data[i, 0])\r\n",
        "  if i <= 60:\r\n",
        "    print(x_train)\r\n",
        "    print(y_train)\r\n",
        "    print()"
      ],
      "execution_count": 207,
      "outputs": [
        {
          "output_type": "stream",
          "text": [
            "[array([0.01353024, 0.        , 0.01472879, 0.00611447, 0.01375734,\n",
            "       0.02416674, 0.02112784, 0.03268596, 0.01938985, 0.00790625,\n",
            "       0.01985941, 0.03556397, 0.03352562, 0.02971903, 0.05655685,\n",
            "       0.08172075, 0.11237581, 0.13655346, 0.13055485, 0.10395402,\n",
            "       0.06696133, 0.06278543, 0.08680443, 0.10387958, 0.13388943,\n",
            "       0.12435109, 0.12797953, 0.14149066, 0.11011384, 0.12336599,\n",
            "       0.1235289 , 0.12120189, 0.10053498, 0.10957046, 0.10128878,\n",
            "       0.09024581, 0.10807734, 0.11856843, 0.11934253, 0.12012612,\n",
            "       0.15479468, 0.164869  , 0.17048041, 0.17942964, 0.1573893 ,\n",
            "       0.14294501, 0.14782203, 0.11714695, 0.13925682, 0.14638267,\n",
            "       0.15607803, 0.19339934, 0.22872332, 0.2275187 , 0.24445097,\n",
            "       0.24055481, 0.23182077, 0.26447762, 0.42635439, 0.45864017])]\n",
            "[0.5416211435515323]\n",
            "\n"
          ],
          "name": "stdout"
        }
      ]
    },
    {
      "cell_type": "code",
      "metadata": {
        "colab": {
          "base_uri": "https://localhost:8080/"
        },
        "id": "DsjDVNdbLW7K",
        "outputId": "314f5714-cd2e-4841-a934-385834ce6ebc"
      },
      "source": [
        "# convert the x_train and y_train to numpy\r\n",
        "x_train = np.array(x_train)\r\n",
        "y_train = np.array(y_train)\r\n",
        "\r\n",
        "# reshape bc need 3 dimensions\r\n",
        "x_train = np.reshape(x_train, (x_train.shape[0], x_train.shape[1], 1))\r\n",
        "x_train.shape"
      ],
      "execution_count": 208,
      "outputs": [
        {
          "output_type": "execute_result",
          "data": {
            "text/plain": [
              "(14, 60, 1)"
            ]
          },
          "metadata": {
            "tags": []
          },
          "execution_count": 208
        }
      ]
    },
    {
      "cell_type": "code",
      "metadata": {
        "id": "UHVPJpcHMHYs"
      },
      "source": [
        "# LSTM Model\r\n",
        "model = Sequential()\r\n",
        "model.add(LSTM(50, return_sequences=True, input_shape=(x_train.shape[1], 1)))\r\n",
        "model.add(LSTM(50, return_sequences=False))\r\n",
        "model.add(Dense(25))\r\n",
        "model.add(Dense(1))"
      ],
      "execution_count": 209,
      "outputs": []
    },
    {
      "cell_type": "code",
      "metadata": {
        "id": "RVr-yVlMQlpz"
      },
      "source": [
        "# optimizer improves upon loss function\r\n",
        "model.compile(optimizer='adam', loss='mean_squared_error')\r\n"
      ],
      "execution_count": 210,
      "outputs": []
    },
    {
      "cell_type": "code",
      "metadata": {
        "colab": {
          "base_uri": "https://localhost:8080/"
        },
        "id": "JkhSHYETQ41K",
        "outputId": "8a1edc15-cc06-4104-ee2b-f78fe10431a0"
      },
      "source": [
        "model.fit(x_train, y_train, batch_size=1, epochs=1)"
      ],
      "execution_count": 211,
      "outputs": [
        {
          "output_type": "stream",
          "text": [
            "14/14 [==============================] - 3s 23ms/step - loss: 0.2101\n"
          ],
          "name": "stdout"
        },
        {
          "output_type": "execute_result",
          "data": {
            "text/plain": [
              "<tensorflow.python.keras.callbacks.History at 0x7ff286f97780>"
            ]
          },
          "metadata": {
            "tags": []
          },
          "execution_count": 211
        }
      ]
    },
    {
      "cell_type": "code",
      "metadata": {
        "id": "_NQFjB9oROdT"
      },
      "source": [
        "# create test data set\r\n",
        "# create a new array containing scaled values \r\n",
        "test_data = scaled_data[training_data_len - 60:, : ]\r\n",
        "# create the data sets x_test and y_test\r\n",
        "x_test = []\r\n",
        "y_test = close_data[training_data_len:, :]\r\n",
        "\r\n",
        "for i in range(60, len(test_data)):\r\n",
        "  x_test.append(test_data[i-60:i, 0])\r\n"
      ],
      "execution_count": 212,
      "outputs": []
    },
    {
      "cell_type": "code",
      "metadata": {
        "id": "UkSJtLmiSIai"
      },
      "source": [
        "# convert the data to a numpy array\r\n",
        "x_test = np.array(x_test)\r\n",
        "# reshape the data\r\n",
        "x_test = np.reshape(x_test, (x_test.shape[0], x_test.shape[1], 1))"
      ],
      "execution_count": 213,
      "outputs": []
    },
    {
      "cell_type": "code",
      "metadata": {
        "colab": {
          "base_uri": "https://localhost:8080/"
        },
        "id": "zExqGysKSnEZ",
        "outputId": "2d55b70c-da45-4e43-dadb-1f4cb2eb6864"
      },
      "source": [
        "# Get the predicted price\r\n",
        "predictions = model.predict(x_test)\r\n",
        "predictions = scaler.inverse_transform(predictions)"
      ],
      "execution_count": 214,
      "outputs": [
        {
          "output_type": "stream",
          "text": [
            "WARNING:tensorflow:5 out of the last 17 calls to <function Model.make_predict_function.<locals>.predict_function at 0x7ff2871419d8> triggered tf.function retracing. Tracing is expensive and the excessive number of tracings could be due to (1) creating @tf.function repeatedly in a loop, (2) passing tensors with different shapes, (3) passing Python objects instead of tensors. For (1), please define your @tf.function outside of the loop. For (2), @tf.function has experimental_relax_shapes=True option that relaxes argument shapes that can avoid unnecessary retracing. For (3), please refer to https://www.tensorflow.org/guide/function#controlling_retracing and https://www.tensorflow.org/api_docs/python/tf/function for  more details.\n"
          ],
          "name": "stdout"
        }
      ]
    },
    {
      "cell_type": "code",
      "metadata": {
        "colab": {
          "base_uri": "https://localhost:8080/"
        },
        "id": "nF6RTX0NTC6V",
        "outputId": "63cd8f24-7fe7-4725-b94e-f5828168dc90"
      },
      "source": [
        "# get the root mean squared error\r\n",
        "rmse = np.sqrt(np.mean(predictions - y_test)**2)\r\n",
        "rmse"
      ],
      "execution_count": 215,
      "outputs": [
        {
          "output_type": "execute_result",
          "data": {
            "text/plain": [
              "286.90048122465555"
            ]
          },
          "metadata": {
            "tags": []
          },
          "execution_count": 215
        }
      ]
    },
    {
      "cell_type": "code",
      "metadata": {
        "colab": {
          "base_uri": "https://localhost:8080/",
          "height": 658
        },
        "id": "TYCY_oA9TqxV",
        "outputId": "17a15565-2d70-4f3b-cc6f-efc66baf961a"
      },
      "source": [
        "# train and validation\r\n",
        "train = data[0:training_data_len]\r\n",
        "valid = data[training_data_len:]\r\n",
        "\r\n",
        "valid[\"predictions\"] = predictions\r\n",
        "# plot\r\n",
        "plt.figure(figsize=(16,8))\r\n",
        "plt.title('Model')\r\n",
        "plt.xlabel('Date', fontsize=14)\r\n",
        "plt.ylabel('Close', fontsize=14)\r\n",
        "plt.plot(train['close'])\r\n",
        "plt.plot(valid[['close', 'predictions']])\r\n",
        "plt.legend(['train', 'validation', 'predictions'], loc='lower right')\r\n",
        "plt.show()"
      ],
      "execution_count": 216,
      "outputs": [
        {
          "output_type": "stream",
          "text": [
            "/usr/local/lib/python3.6/dist-packages/ipykernel_launcher.py:5: SettingWithCopyWarning: \n",
            "A value is trying to be set on a copy of a slice from a DataFrame.\n",
            "Try using .loc[row_indexer,col_indexer] = value instead\n",
            "\n",
            "See the caveats in the documentation: https://pandas.pydata.org/pandas-docs/stable/user_guide/indexing.html#returning-a-view-versus-a-copy\n",
            "  \"\"\"\n"
          ],
          "name": "stderr"
        },
        {
          "output_type": "display_data",
          "data": {
            "image/png": "[encoded data removed]",
            "text/plain": [
              "<Figure size 1152x576 with 1 Axes>"
            ]
          },
          "metadata": {
            "tags": []
          }
        }
      ]
    },
    {
      "cell_type": "code",
      "metadata": {
        "colab": {
          "base_uri": "https://localhost:8080/",
          "height": 631
        },
        "id": "ukV3MOlbVJLu",
        "outputId": "27d51499-d28d-4245-c1ab-874eddcb6923"
      },
      "source": [
        "# show valid and predicted price\r\n",
        "valid.tail(20)"
      ],
      "execution_count": 217,
      "outputs": [
        {
          "output_type": "execute_result",
          "data": {
            "text/html": [
              "<div>\n",
              "<style scoped>\n",
              "    .dataframe tbody tr th:only-of-type {\n",
              "        vertical-align: middle;\n",
              "    }\n",
              "\n",
              "    .dataframe tbody tr th {\n",
              "        vertical-align: top;\n",
              "    }\n",
              "\n",
              "    .dataframe thead th {\n",
              "        text-align: right;\n",
              "    }\n",
              "</style>\n",
              "<table border=\"1\" class=\"dataframe\">\n",
              "  <thead>\n",
              "    <tr style=\"text-align: right;\">\n",
              "      <th></th>\n",
              "      <th>close</th>\n",
              "      <th>predictions</th>\n",
              "    </tr>\n",
              "    <tr>\n",
              "      <th>date</th>\n",
              "      <th></th>\n",
              "      <th></th>\n",
              "    </tr>\n",
              "  </thead>\n",
              "  <tbody>\n",
              "    <tr>\n",
              "      <th>2021-01-19</th>\n",
              "      <td>1411.833939</td>\n",
              "      <td>1526.171875</td>\n",
              "    </tr>\n",
              "    <tr>\n",
              "      <th>2021-01-20</th>\n",
              "      <td>1332.642513</td>\n",
              "      <td>1551.348145</td>\n",
              "    </tr>\n",
              "    <tr>\n",
              "      <th>2021-01-21</th>\n",
              "      <td>1117.483678</td>\n",
              "      <td>1575.788208</td>\n",
              "    </tr>\n",
              "    <tr>\n",
              "      <th>2021-01-22</th>\n",
              "      <td>1250.715166</td>\n",
              "      <td>1594.931396</td>\n",
              "    </tr>\n",
              "    <tr>\n",
              "      <th>2021-01-23</th>\n",
              "      <td>1235.091640</td>\n",
              "      <td>1612.669312</td>\n",
              "    </tr>\n",
              "    <tr>\n",
              "      <th>2021-01-24</th>\n",
              "      <td>1368.895605</td>\n",
              "      <td>1628.257080</td>\n",
              "    </tr>\n",
              "    <tr>\n",
              "      <th>2021-01-25</th>\n",
              "      <td>1324.858487</td>\n",
              "      <td>1644.711182</td>\n",
              "    </tr>\n",
              "    <tr>\n",
              "      <th>2021-01-26</th>\n",
              "      <td>1350.736956</td>\n",
              "      <td>1660.386108</td>\n",
              "    </tr>\n",
              "    <tr>\n",
              "      <th>2021-01-27</th>\n",
              "      <td>1247.656556</td>\n",
              "      <td>1675.862061</td>\n",
              "    </tr>\n",
              "    <tr>\n",
              "      <th>2021-01-28</th>\n",
              "      <td>1354.960394</td>\n",
              "      <td>1688.716431</td>\n",
              "    </tr>\n",
              "    <tr>\n",
              "      <th>2021-01-29</th>\n",
              "      <td>1407.681790</td>\n",
              "      <td>1701.690674</td>\n",
              "    </tr>\n",
              "    <tr>\n",
              "      <th>2021-01-30</th>\n",
              "      <td>1385.498675</td>\n",
              "      <td>1715.286255</td>\n",
              "    </tr>\n",
              "    <tr>\n",
              "      <th>2021-01-31</th>\n",
              "      <td>1315.243745</td>\n",
              "      <td>1728.608643</td>\n",
              "    </tr>\n",
              "    <tr>\n",
              "      <th>2021-02-01</th>\n",
              "      <td>1357.047990</td>\n",
              "      <td>1740.126587</td>\n",
              "    </tr>\n",
              "    <tr>\n",
              "      <th>2021-02-02</th>\n",
              "      <td>1540.651288</td>\n",
              "      <td>1750.996582</td>\n",
              "    </tr>\n",
              "    <tr>\n",
              "      <th>2021-02-03</th>\n",
              "      <td>1644.685967</td>\n",
              "      <td>1764.671021</td>\n",
              "    </tr>\n",
              "    <tr>\n",
              "      <th>2021-02-04</th>\n",
              "      <td>1628.468008</td>\n",
              "      <td>1781.898315</td>\n",
              "    </tr>\n",
              "    <tr>\n",
              "      <th>2021-02-05</th>\n",
              "      <td>1704.832300</td>\n",
              "      <td>1801.073486</td>\n",
              "    </tr>\n",
              "  </tbody>\n",
              "</table>\n",
              "</div>"
            ],
            "text/plain": [
              "                  close  predictions\n",
              "date                                \n",
              "2021-01-19  1411.833939  1526.171875\n",
              "2021-01-20  1332.642513  1551.348145\n",
              "2021-01-21  1117.483678  1575.788208\n",
              "2021-01-22  1250.715166  1594.931396\n",
              "2021-01-23  1235.091640  1612.669312\n",
              "2021-01-24  1368.895605  1628.257080\n",
              "2021-01-25  1324.858487  1644.711182\n",
              "2021-01-26  1350.736956  1660.386108\n",
              "2021-01-27  1247.656556  1675.862061\n",
              "2021-01-28  1354.960394  1688.716431\n",
              "2021-01-29  1407.681790  1701.690674\n",
              "2021-01-30  1385.498675  1715.286255\n",
              "2021-01-31  1315.243745  1728.608643\n",
              "2021-02-01  1357.047990  1740.126587\n",
              "2021-02-02  1540.651288  1750.996582\n",
              "2021-02-03  1644.685967  1764.671021\n",
              "2021-02-04  1628.468008  1781.898315\n",
              "2021-02-05  1704.832300  1801.073486"
            ]
          },
          "metadata": {
            "tags": []
          },
          "execution_count": 217
        }
      ]
    }
  ]
}